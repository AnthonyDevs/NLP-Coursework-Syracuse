{
 "cells": [
  {
   "cell_type": "code",
   "execution_count": 1,
   "id": "e4de8ff6",
   "metadata": {},
   "outputs": [],
   "source": [
    "import nltk"
   ]
  },
  {
   "cell_type": "code",
   "execution_count": null,
   "id": "a5199ff2",
   "metadata": {},
   "outputs": [
    {
     "name": "stdout",
     "output_type": "stream",
     "text": [
      "showing info https://raw.githubusercontent.com/nltk/nltk_data/gh-pages/index.xml\n"
     ]
    }
   ],
   "source": [
    "nltk.download()"
   ]
  },
  {
   "cell_type": "code",
   "execution_count": null,
   "id": "764aab0c",
   "metadata": {},
   "outputs": [],
   "source": [
    "moby = nltk.corpus.gutenberg.fileids()[13]"
   ]
  },
  {
   "cell_type": "code",
   "execution_count": null,
   "id": "0fe062d1",
   "metadata": {},
   "outputs": [],
   "source": [
    "moby"
   ]
  },
  {
   "cell_type": "code",
   "execution_count": null,
   "id": "706c2589",
   "metadata": {},
   "outputs": [],
   "source": [
    "mobytext = nltk.corpus.gutenberg.raw(moby)"
   ]
  }
 ],
 "metadata": {
  "kernelspec": {
   "display_name": "Python 3 (ipykernel)",
   "language": "python",
   "name": "python3"
  },
  "language_info": {
   "codemirror_mode": {
    "name": "ipython",
    "version": 3
   },
   "file_extension": ".py",
   "mimetype": "text/x-python",
   "name": "python",
   "nbconvert_exporter": "python",
   "pygments_lexer": "ipython3",
   "version": "3.11.5"
  }
 },
 "nbformat": 4,
 "nbformat_minor": 5
}
