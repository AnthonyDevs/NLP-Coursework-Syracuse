{
 "cells": [
  {
   "cell_type": "code",
   "execution_count": 1,
   "id": "7d629f9b",
   "metadata": {},
   "outputs": [],
   "source": [
    "import nltk"
   ]
  },
  {
   "cell_type": "code",
   "execution_count": 2,
   "id": "8bbe93b6",
   "metadata": {},
   "outputs": [
    {
     "data": {
      "text/plain": [
       "['austen-emma.txt',\n",
       " 'austen-persuasion.txt',\n",
       " 'austen-sense.txt',\n",
       " 'bible-kjv.txt',\n",
       " 'blake-poems.txt',\n",
       " 'bryant-stories.txt',\n",
       " 'burgess-busterbrown.txt',\n",
       " 'carroll-alice.txt',\n",
       " 'chesterton-ball.txt',\n",
       " 'chesterton-brown.txt',\n",
       " 'chesterton-thursday.txt',\n",
       " 'edgeworth-parents.txt',\n",
       " 'melville-moby_dick.txt',\n",
       " 'milton-paradise.txt',\n",
       " 'shakespeare-caesar.txt',\n",
       " 'shakespeare-hamlet.txt',\n",
       " 'shakespeare-macbeth.txt',\n",
       " 'whitman-leaves.txt']"
      ]
     },
     "execution_count": 2,
     "metadata": {},
     "output_type": "execute_result"
    }
   ],
   "source": [
    "nltk.corpus.gutenberg.fileids()"
   ]
  },
  {
   "cell_type": "code",
   "execution_count": 3,
   "id": "ecc88252",
   "metadata": {},
   "outputs": [],
   "source": [
    "moby = nltk.corpus.gutenberg.fileids()[12]"
   ]
  },
  {
   "cell_type": "code",
   "execution_count": 4,
   "id": "d5d87d7d",
   "metadata": {},
   "outputs": [
    {
     "data": {
      "text/plain": [
       "'melville-moby_dick.txt'"
      ]
     },
     "execution_count": 4,
     "metadata": {},
     "output_type": "execute_result"
    }
   ],
   "source": [
    "moby"
   ]
  },
  {
   "cell_type": "code",
   "execution_count": 5,
   "id": "83c4bbc7",
   "metadata": {},
   "outputs": [],
   "source": [
    "mobytext = nltk.corpus.gutenberg.raw(moby)"
   ]
  },
  {
   "cell_type": "code",
   "execution_count": 6,
   "id": "8d2af043",
   "metadata": {},
   "outputs": [
    {
     "data": {
      "text/plain": [
       "1242990"
      ]
     },
     "execution_count": 6,
     "metadata": {},
     "output_type": "execute_result"
    }
   ],
   "source": [
    "len(mobytext)"
   ]
  },
  {
   "cell_type": "code",
   "execution_count": 7,
   "id": "7a14723f",
   "metadata": {},
   "outputs": [],
   "source": [
    "para = nltk.corpus.gutenberg.fileids()[13]"
   ]
  },
  {
   "cell_type": "code",
   "execution_count": 8,
   "id": "c6325ded",
   "metadata": {},
   "outputs": [],
   "source": [
    "paratext = nltk.corpus.gutenberg.raw(para)"
   ]
  },
  {
   "cell_type": "code",
   "execution_count": 9,
   "id": "ce6edade",
   "metadata": {},
   "outputs": [
    {
     "data": {
      "text/plain": [
       "468220"
      ]
     },
     "execution_count": 9,
     "metadata": {},
     "output_type": "execute_result"
    }
   ],
   "source": [
    "len(paratext)"
   ]
  },
  {
   "cell_type": "code",
   "execution_count": 10,
   "id": "0df255ab",
   "metadata": {},
   "outputs": [],
   "source": [
    "mobytokens = nltk.word_tokenize(mobytext)"
   ]
  },
  {
   "cell_type": "code",
   "execution_count": 11,
   "id": "a6a2d34c",
   "metadata": {},
   "outputs": [],
   "source": [
    "paratokens = nltk.word_tokenize(paratext)"
   ]
  },
  {
   "cell_type": "code",
   "execution_count": 12,
   "id": "99ebcb04",
   "metadata": {},
   "outputs": [],
   "source": [
    "mobywords = [w.lower() for w in mobytokens]"
   ]
  },
  {
   "cell_type": "code",
   "execution_count": 13,
   "id": "57a613fc",
   "metadata": {},
   "outputs": [
    {
     "data": {
      "text/plain": [
       "['[',\n",
       " 'moby',\n",
       " 'dick',\n",
       " 'by',\n",
       " 'herman',\n",
       " 'melville',\n",
       " '1851',\n",
       " ']',\n",
       " 'etymology',\n",
       " '.',\n",
       " '(',\n",
       " 'supplied',\n",
       " 'by',\n",
       " 'a',\n",
       " 'late',\n",
       " 'consumptive',\n",
       " 'usher',\n",
       " 'to',\n",
       " 'a',\n",
       " 'grammar',\n",
       " 'school',\n",
       " ')',\n",
       " 'the',\n",
       " 'pale',\n",
       " 'usher',\n",
       " '--',\n",
       " 'threadbare',\n",
       " 'in',\n",
       " 'coat',\n",
       " ',',\n",
       " 'heart',\n",
       " ',',\n",
       " 'body',\n",
       " ',',\n",
       " 'and',\n",
       " 'brain',\n",
       " ';',\n",
       " 'i',\n",
       " 'see',\n",
       " 'him',\n",
       " 'now',\n",
       " '.',\n",
       " 'he',\n",
       " 'was',\n",
       " 'ever',\n",
       " 'dusting',\n",
       " 'his',\n",
       " 'old',\n",
       " 'lexicons',\n",
       " 'and']"
      ]
     },
     "execution_count": 13,
     "metadata": {},
     "output_type": "execute_result"
    }
   ],
   "source": [
    "mobywords[:50]"
   ]
  },
  {
   "cell_type": "code",
   "execution_count": 14,
   "id": "38252596",
   "metadata": {},
   "outputs": [],
   "source": [
    "mobyvocab = sorted(set(mobywords))"
   ]
  },
  {
   "cell_type": "code",
   "execution_count": 15,
   "id": "1f8df929",
   "metadata": {},
   "outputs": [
    {
     "data": {
      "text/plain": [
       "['!',\n",
       " '$',\n",
       " '&',\n",
       " \"'\",\n",
       " \"''\",\n",
       " \"'adios\",\n",
       " \"'also\",\n",
       " \"'and\",\n",
       " \"'are\",\n",
       " \"'aye\",\n",
       " \"'balmed\",\n",
       " \"'best\",\n",
       " \"'better\",\n",
       " \"'bout\",\n",
       " \"'but\",\n",
       " \"'canallers\",\n",
       " \"'come\",\n",
       " \"'cross\",\n",
       " \"'d\",\n",
       " \"'damn\",\n",
       " \"'dention\",\n",
       " \"'down\",\n",
       " \"'em\",\n",
       " \"'excuse\",\n",
       " \"'for\",\n",
       " \"'gainst\",\n",
       " \"'halloa\",\n",
       " \"'he\",\n",
       " \"'here\",\n",
       " \"'hind\",\n",
       " \"'how\",\n",
       " \"'in\",\n",
       " \"'into\",\n",
       " \"'is\",\n",
       " \"'it\",\n",
       " \"'it's\",\n",
       " \"'lakeman\",\n",
       " \"'let\",\n",
       " \"'like\",\n",
       " \"'lively\",\n",
       " \"'ll\",\n",
       " \"'look\",\n",
       " \"'m\",\n",
       " \"'moby\",\n",
       " \"'mong\",\n",
       " \"'mr\",\n",
       " \"'my\",\n",
       " \"'nay\",\n",
       " \"'no\",\n",
       " \"'oh\"]"
      ]
     },
     "execution_count": 15,
     "metadata": {},
     "output_type": "execute_result"
    }
   ],
   "source": [
    "mobyvocab[:50]"
   ]
  },
  {
   "cell_type": "code",
   "execution_count": 16,
   "id": "1fbcd296",
   "metadata": {},
   "outputs": [],
   "source": [
    "from nltk import FreqDist"
   ]
  },
  {
   "cell_type": "code",
   "execution_count": 17,
   "id": "e86c0591",
   "metadata": {},
   "outputs": [],
   "source": [
    "mfdist = FreqDist(mobywords)"
   ]
  },
  {
   "cell_type": "code",
   "execution_count": 18,
   "id": "130f3beb",
   "metadata": {},
   "outputs": [],
   "source": [
    "mobykeys = list(mfdist.keys())"
   ]
  },
  {
   "cell_type": "code",
   "execution_count": 19,
   "id": "291181a6",
   "metadata": {},
   "outputs": [],
   "source": [
    "topmobykeys = mfdist.most_common(50)"
   ]
  },
  {
   "cell_type": "code",
   "execution_count": 20,
   "id": "aeb43b3e",
   "metadata": {},
   "outputs": [
    {
     "data": {
      "text/plain": [
       "[(',', 19204),\n",
       " ('the', 14422),\n",
       " ('.', 7306),\n",
       " ('of', 6586),\n",
       " ('and', 6414),\n",
       " ('a', 4698),\n",
       " ('to', 4597),\n",
       " (';', 4173),\n",
       " ('in', 4163),\n",
       " ('that', 3081),\n",
       " ('his', 2530),\n",
       " ('it', 2508),\n",
       " ('i', 2113),\n",
       " ('he', 1890),\n",
       " ('but', 1813),\n",
       " ('!', 1767),\n",
       " ('is', 1748),\n",
       " ('as', 1741),\n",
       " ('with', 1722),\n",
       " ('--', 1713),\n",
       " ('was', 1651),\n",
       " (\"'s\", 1634),\n",
       " ('for', 1616),\n",
       " (\"''\", 1615),\n",
       " ('all', 1508),\n",
       " ('``', 1456),\n",
       " ('this', 1393),\n",
       " ('at', 1318),\n",
       " ('not', 1218),\n",
       " ('by', 1201),\n",
       " ('from', 1088),\n",
       " ('whale', 1086),\n",
       " ('him', 1067),\n",
       " ('on', 1060),\n",
       " ('so', 1059),\n",
       " ('be', 1042),\n",
       " ('?', 1004),\n",
       " ('one', 912),\n",
       " ('you', 891),\n",
       " ('there', 861),\n",
       " ('now', 784),\n",
       " ('had', 779),\n",
       " ('have', 771),\n",
       " ('or', 713),\n",
       " ('were', 683),\n",
       " ('they', 667),\n",
       " ('which', 648),\n",
       " ('me', 630),\n",
       " ('then', 627),\n",
       " ('their', 620)]"
      ]
     },
     "execution_count": 20,
     "metadata": {},
     "output_type": "execute_result"
    }
   ],
   "source": [
    "topmobykeys"
   ]
  },
  {
   "cell_type": "code",
   "execution_count": 21,
   "id": "65b4e931",
   "metadata": {},
   "outputs": [],
   "source": [
    "mobycount = len(mobywords)"
   ]
  },
  {
   "cell_type": "code",
   "execution_count": 23,
   "id": "5fecfed6",
   "metadata": {},
   "outputs": [],
   "source": [
    "topkeysnorm = [(word, freq/mobycount) for (word, freq) in topmobykeys]"
   ]
  },
  {
   "cell_type": "code",
   "execution_count": 24,
   "id": "1dbaa4e8",
   "metadata": {},
   "outputs": [],
   "source": [
    "import re"
   ]
  },
  {
   "cell_type": "code",
   "execution_count": 25,
   "id": "9ab92d64",
   "metadata": {},
   "outputs": [],
   "source": [
    "pattern = re.compile('^[^a-z]+$')"
   ]
  },
  {
   "cell_type": "code",
   "execution_count": 26,
   "id": "9a4a614b",
   "metadata": {},
   "outputs": [],
   "source": [
    "nonAlphaMatch = pattern.match('**')"
   ]
  },
  {
   "cell_type": "code",
   "execution_count": 27,
   "id": "4345c493",
   "metadata": {},
   "outputs": [],
   "source": [
    "if nonAlphaMatch: 'matched non-alphabetical'"
   ]
  },
  {
   "cell_type": "code",
   "execution_count": 28,
   "id": "79d5c864",
   "metadata": {},
   "outputs": [],
   "source": [
    "def alpha_filter(w):\n",
    "    pattern = re.compile('^[^a-z]+$')\n",
    "    if (pattern.match(w)):\n",
    "        return True\n",
    "    else:\n",
    "        return False"
   ]
  },
  {
   "cell_type": "code",
   "execution_count": 29,
   "id": "6af29a89",
   "metadata": {},
   "outputs": [],
   "source": [
    "alphamoby = [w for w in mobywords if not alpha_filter(w)]"
   ]
  },
  {
   "cell_type": "code",
   "execution_count": 30,
   "id": "a4e1c594",
   "metadata": {},
   "outputs": [
    {
     "name": "stdout",
     "output_type": "stream",
     "text": [
      "['moby', 'dick', 'by', 'herman', 'melville', 'etymology', 'supplied', 'by', 'a', 'late', 'consumptive', 'usher', 'to', 'a', 'grammar', 'school', 'the', 'pale', 'usher', 'threadbare', 'in', 'coat', 'heart', 'body', 'and', 'brain', 'i', 'see', 'him', 'now', 'he', 'was', 'ever', 'dusting', 'his', 'old', 'lexicons', 'and', 'grammars', 'with', 'a', 'queer', 'handkerchief', 'mockingly', 'embellished', 'with', 'all', 'the', 'gay', 'flags', 'of', 'all', 'the', 'known', 'nations', 'of', 'the', 'world', 'he', 'loved', 'to', 'dust', 'his', 'old', 'grammars', 'it', 'somehow', 'mildly', 'reminded', 'him', 'of', 'his', 'mortality', 'while', 'you', 'take', 'in', 'hand', 'to', 'school', 'others', 'and', 'to', 'teach', 'them', 'by', 'what', 'name', 'a', 'whale-fish', 'is', 'to', 'be', 'called', 'in', 'our', 'tongue', 'leaving', 'out', 'through']\n"
     ]
    }
   ],
   "source": [
    "print(alphamoby[:100])"
   ]
  },
  {
   "cell_type": "code",
   "execution_count": 31,
   "id": "73ff5aee",
   "metadata": {},
   "outputs": [],
   "source": [
    "mobyalphadist = FreqDist(alphamoby)"
   ]
  },
  {
   "cell_type": "code",
   "execution_count": 32,
   "id": "20e30a9b",
   "metadata": {},
   "outputs": [],
   "source": [
    "alphamobykeys = list(mobyalphadist.keys())"
   ]
  },
  {
   "cell_type": "code",
   "execution_count": 33,
   "id": "d0368a3e",
   "metadata": {},
   "outputs": [],
   "source": [
    "topalphamobykeys = mobyalphadist.most_common(50)"
   ]
  },
  {
   "cell_type": "code",
   "execution_count": 34,
   "id": "a51cc2d5",
   "metadata": {},
   "outputs": [
    {
     "data": {
      "text/plain": [
       "[('the', 14422),\n",
       " ('of', 6586),\n",
       " ('and', 6414),\n",
       " ('a', 4698),\n",
       " ('to', 4597),\n",
       " ('in', 4163),\n",
       " ('that', 3081),\n",
       " ('his', 2530),\n",
       " ('it', 2508),\n",
       " ('i', 2113),\n",
       " ('he', 1890),\n",
       " ('but', 1813),\n",
       " ('is', 1748),\n",
       " ('as', 1741),\n",
       " ('with', 1722),\n",
       " ('was', 1651),\n",
       " (\"'s\", 1634),\n",
       " ('for', 1616),\n",
       " ('all', 1508),\n",
       " ('this', 1393),\n",
       " ('at', 1318),\n",
       " ('not', 1218),\n",
       " ('by', 1201),\n",
       " ('from', 1088),\n",
       " ('whale', 1086),\n",
       " ('him', 1067),\n",
       " ('on', 1060),\n",
       " ('so', 1059),\n",
       " ('be', 1042),\n",
       " ('one', 912),\n",
       " ('you', 891),\n",
       " ('there', 861),\n",
       " ('now', 784),\n",
       " ('had', 779),\n",
       " ('have', 771),\n",
       " ('or', 713),\n",
       " ('were', 683),\n",
       " ('they', 667),\n",
       " ('which', 648),\n",
       " ('me', 630),\n",
       " ('then', 627),\n",
       " ('their', 620),\n",
       " ('some', 618),\n",
       " ('when', 606),\n",
       " ('what', 603),\n",
       " ('are', 597),\n",
       " ('an', 596),\n",
       " ('my', 588),\n",
       " ('no', 583),\n",
       " ('like', 580)]"
      ]
     },
     "execution_count": 34,
     "metadata": {},
     "output_type": "execute_result"
    }
   ],
   "source": [
    "topalphamobykeys"
   ]
  },
  {
   "cell_type": "code",
   "execution_count": 35,
   "id": "26ccda46",
   "metadata": {},
   "outputs": [],
   "source": [
    "from nltk.corpus import stopwords"
   ]
  },
  {
   "cell_type": "code",
   "execution_count": 38,
   "id": "1a54c6e0",
   "metadata": {},
   "outputs": [
    {
     "ename": "TypeError",
     "evalue": "object of type 'LazyCorpusLoader' has no len()",
     "output_type": "error",
     "traceback": [
      "\u001b[1;31m---------------------------------------------------------------------------\u001b[0m",
      "\u001b[1;31mTypeError\u001b[0m                                 Traceback (most recent call last)",
      "Cell \u001b[1;32mIn[38], line 1\u001b[0m\n\u001b[1;32m----> 1\u001b[0m \u001b[38;5;28mlen\u001b[39m(stopwords)\n",
      "\u001b[1;31mTypeError\u001b[0m: object of type 'LazyCorpusLoader' has no len()"
     ]
    }
   ],
   "source": []
  },
  {
   "cell_type": "code",
   "execution_count": 39,
   "id": "b3668535",
   "metadata": {},
   "outputs": [],
   "source": [
    "nltkstopwords = nltk.corpus.stopwords.words('english') "
   ]
  },
  {
   "cell_type": "code",
   "execution_count": 40,
   "id": "8d05ae6f",
   "metadata": {},
   "outputs": [
    {
     "data": {
      "text/plain": [
       "179"
      ]
     },
     "execution_count": 40,
     "metadata": {},
     "output_type": "execute_result"
    }
   ],
   "source": [
    "len(nltkstopwords)"
   ]
  },
  {
   "cell_type": "code",
   "execution_count": 42,
   "id": "444db2c3",
   "metadata": {},
   "outputs": [],
   "source": [
    "filteredmoby = [w for w in alphamoby if not w in nltkstopwords]"
   ]
  },
  {
   "cell_type": "code",
   "execution_count": 43,
   "id": "f9a68254",
   "metadata": {},
   "outputs": [
    {
     "name": "stdout",
     "output_type": "stream",
     "text": [
      "['moby', 'dick', 'herman', 'melville', 'etymology', 'supplied', 'late', 'consumptive', 'usher', 'grammar', 'school', 'pale', 'usher', 'threadbare', 'coat', 'heart', 'body', 'brain', 'see', 'ever', 'dusting', 'old', 'lexicons', 'grammars', 'queer', 'handkerchief', 'mockingly', 'embellished', 'gay', 'flags', 'known', 'nations', 'world', 'loved', 'dust', 'old', 'grammars', 'somehow', 'mildly', 'reminded', 'mortality', 'take', 'hand', 'school', 'others', 'teach', 'name', 'whale-fish', 'called', 'tongue']\n"
     ]
    }
   ],
   "source": [
    "print(filteredmoby[:50])"
   ]
  },
  {
   "cell_type": "code",
   "execution_count": 44,
   "id": "12f98eb2",
   "metadata": {},
   "outputs": [
    {
     "ename": "AttributeError",
     "evalue": "'list' object has no attribute 'most_common'",
     "output_type": "error",
     "traceback": [
      "\u001b[1;31m---------------------------------------------------------------------------\u001b[0m",
      "\u001b[1;31mAttributeError\u001b[0m                            Traceback (most recent call last)",
      "Cell \u001b[1;32mIn[44], line 1\u001b[0m\n\u001b[1;32m----> 1\u001b[0m topmoby \u001b[38;5;241m=\u001b[39m filteredmoby\u001b[38;5;241m.\u001b[39mmost_common(\u001b[38;5;241m50\u001b[39m)\n",
      "\u001b[1;31mAttributeError\u001b[0m: 'list' object has no attribute 'most_common'"
     ]
    }
   ],
   "source": [
    "topmoby = filteredmoby.most_common(50)"
   ]
  },
  {
   "cell_type": "code",
   "execution_count": 45,
   "id": "1320d770",
   "metadata": {},
   "outputs": [],
   "source": [
    "newmobydist = FreqDist(filteredmoby)"
   ]
  },
  {
   "cell_type": "code",
   "execution_count": 46,
   "id": "6791d5d5",
   "metadata": {},
   "outputs": [],
   "source": [
    "filteredmobykeys = list(newmobydist.keys())"
   ]
  },
  {
   "cell_type": "code",
   "execution_count": 47,
   "id": "432bb5d8",
   "metadata": {},
   "outputs": [],
   "source": [
    "topmoby = newmobydist.most_common(50)"
   ]
  },
  {
   "cell_type": "code",
   "execution_count": 48,
   "id": "1a96c78f",
   "metadata": {},
   "outputs": [
    {
     "data": {
      "text/plain": [
       "[(\"'s\", 1634),\n",
       " ('whale', 1086),\n",
       " ('one', 912),\n",
       " ('like', 580),\n",
       " ('upon', 565),\n",
       " ('ahab', 508),\n",
       " ('man', 490),\n",
       " ('ship', 463),\n",
       " ('old', 443),\n",
       " ('ye', 438),\n",
       " ('would', 435),\n",
       " ('sea', 384),\n",
       " ('though', 383),\n",
       " ('yet', 344),\n",
       " ('time', 326),\n",
       " ('captain', 324),\n",
       " ('long', 318),\n",
       " ('still', 312),\n",
       " ('said', 304),\n",
       " ('great', 303),\n",
       " ('two', 288),\n",
       " ('boat', 287),\n",
       " ('must', 284),\n",
       " ('seemed', 283),\n",
       " ('head', 277),\n",
       " ('last', 275),\n",
       " ('see', 269),\n",
       " ('thou', 268),\n",
       " ('whales', 267),\n",
       " ('way', 264),\n",
       " ('stubb', 254),\n",
       " (\"n't\", 252),\n",
       " ('queequeg', 252),\n",
       " ('little', 249),\n",
       " ('white', 248),\n",
       " ('round', 245),\n",
       " ('say', 241),\n",
       " ('sperm', 240),\n",
       " ('three', 239),\n",
       " ('men', 237),\n",
       " ('may', 237),\n",
       " ('first', 235),\n",
       " ('every', 232),\n",
       " ('us', 228),\n",
       " ('much', 223),\n",
       " ('could', 222),\n",
       " ('well', 220),\n",
       " ('never', 206),\n",
       " ('hand', 203),\n",
       " ('good', 197)]"
      ]
     },
     "execution_count": 48,
     "metadata": {},
     "output_type": "execute_result"
    }
   ],
   "source": [
    "topmoby"
   ]
  },
  {
   "cell_type": "code",
   "execution_count": 50,
   "id": "5fa5534f",
   "metadata": {},
   "outputs": [],
   "source": [
    "morestopwords = ['could','would','might','must','need','sha','wo','y',\"'s\",\"'d\",\"'ll\",\"'t\",\"'m\",\"'re\",\"'ve\"]"
   ]
  },
  {
   "cell_type": "code",
   "execution_count": 51,
   "id": "8b95654c",
   "metadata": {},
   "outputs": [],
   "source": [
    "stopwords = nltkstopwords + morestopwords"
   ]
  },
  {
   "cell_type": "code",
   "execution_count": 52,
   "id": "59cdbc14",
   "metadata": {},
   "outputs": [],
   "source": [
    "newmobyfilter = [w for w in alphamoby if not w in stopwords]"
   ]
  },
  {
   "cell_type": "code",
   "execution_count": 53,
   "id": "d8820b28",
   "metadata": {},
   "outputs": [],
   "source": [
    "mobydist = FreqDist(newmobyfilter)"
   ]
  },
  {
   "cell_type": "code",
   "execution_count": 54,
   "id": "7295523d",
   "metadata": {},
   "outputs": [],
   "source": [
    "mobyitems = mobydist.most_common(50)"
   ]
  },
  {
   "cell_type": "code",
   "execution_count": 56,
   "id": "024a93e1",
   "metadata": {
    "scrolled": true
   },
   "outputs": [
    {
     "name": "stdout",
     "output_type": "stream",
     "text": [
      "('whale', 1086)\n",
      "('one', 912)\n",
      "('like', 580)\n",
      "('upon', 565)\n",
      "('ahab', 508)\n",
      "('man', 490)\n",
      "('ship', 463)\n",
      "('old', 443)\n",
      "('ye', 438)\n",
      "('sea', 384)\n",
      "('though', 383)\n",
      "('yet', 344)\n",
      "('time', 326)\n",
      "('captain', 324)\n",
      "('long', 318)\n",
      "('still', 312)\n",
      "('said', 304)\n",
      "('great', 303)\n",
      "('two', 288)\n",
      "('boat', 287)\n",
      "('seemed', 283)\n",
      "('head', 277)\n",
      "('last', 275)\n",
      "('see', 269)\n",
      "('thou', 268)\n",
      "('whales', 267)\n",
      "('way', 264)\n",
      "('stubb', 254)\n",
      "(\"n't\", 252)\n",
      "('queequeg', 252)\n",
      "('little', 249)\n",
      "('white', 248)\n",
      "('round', 245)\n",
      "('say', 241)\n",
      "('sperm', 240)\n",
      "('three', 239)\n",
      "('men', 237)\n",
      "('may', 237)\n",
      "('first', 235)\n",
      "('every', 232)\n",
      "('us', 228)\n",
      "('much', 223)\n",
      "('well', 220)\n",
      "('never', 206)\n",
      "('hand', 203)\n",
      "('good', 197)\n",
      "('almost', 195)\n",
      "('starbuck', 195)\n",
      "('ever', 193)\n",
      "('go', 192)\n"
     ]
    }
   ],
   "source": [
    "for item in mobyitems: print(item)"
   ]
  },
  {
   "cell_type": "code",
   "execution_count": 57,
   "id": "2361597f",
   "metadata": {},
   "outputs": [],
   "source": [
    "bimoby = nltk.bigrams(alphamobykeys)"
   ]
  },
  {
   "cell_type": "code",
   "execution_count": 58,
   "id": "43f70bcd",
   "metadata": {},
   "outputs": [],
   "source": [
    "bimobydist = nltk.FreqDist(bimoby)"
   ]
  },
  {
   "cell_type": "code",
   "execution_count": 59,
   "id": "3952db86",
   "metadata": {},
   "outputs": [
    {
     "data": {
      "text/plain": [
       "FreqDist({('moby', 'dick'): 1, ('dick', 'by'): 1, ('by', 'herman'): 1, ('herman', 'melville'): 1, ('melville', 'etymology'): 1, ('etymology', 'supplied'): 1, ('supplied', 'a'): 1, ('a', 'late'): 1, ('late', 'consumptive'): 1, ('consumptive', 'usher'): 1, ...})"
      ]
     },
     "execution_count": 59,
     "metadata": {},
     "output_type": "execute_result"
    }
   ],
   "source": [
    "bimobydist"
   ]
  },
  {
   "cell_type": "code",
   "execution_count": 60,
   "id": "078bdc81",
   "metadata": {},
   "outputs": [],
   "source": [
    "topbimoby = bimobydist.most_common(50)"
   ]
  },
  {
   "cell_type": "code",
   "execution_count": 61,
   "id": "b6c78dc4",
   "metadata": {},
   "outputs": [
    {
     "data": {
      "text/plain": [
       "[(('moby', 'dick'), 1),\n",
       " (('dick', 'by'), 1),\n",
       " (('by', 'herman'), 1),\n",
       " (('herman', 'melville'), 1),\n",
       " (('melville', 'etymology'), 1),\n",
       " (('etymology', 'supplied'), 1),\n",
       " (('supplied', 'a'), 1),\n",
       " (('a', 'late'), 1),\n",
       " (('late', 'consumptive'), 1),\n",
       " (('consumptive', 'usher'), 1),\n",
       " (('usher', 'to'), 1),\n",
       " (('to', 'grammar'), 1),\n",
       " (('grammar', 'school'), 1),\n",
       " (('school', 'the'), 1),\n",
       " (('the', 'pale'), 1),\n",
       " (('pale', 'threadbare'), 1),\n",
       " (('threadbare', 'in'), 1),\n",
       " (('in', 'coat'), 1),\n",
       " (('coat', 'heart'), 1),\n",
       " (('heart', 'body'), 1),\n",
       " (('body', 'and'), 1),\n",
       " (('and', 'brain'), 1),\n",
       " (('brain', 'i'), 1),\n",
       " (('i', 'see'), 1),\n",
       " (('see', 'him'), 1),\n",
       " (('him', 'now'), 1),\n",
       " (('now', 'he'), 1),\n",
       " (('he', 'was'), 1),\n",
       " (('was', 'ever'), 1),\n",
       " (('ever', 'dusting'), 1),\n",
       " (('dusting', 'his'), 1),\n",
       " (('his', 'old'), 1),\n",
       " (('old', 'lexicons'), 1),\n",
       " (('lexicons', 'grammars'), 1),\n",
       " (('grammars', 'with'), 1),\n",
       " (('with', 'queer'), 1),\n",
       " (('queer', 'handkerchief'), 1),\n",
       " (('handkerchief', 'mockingly'), 1),\n",
       " (('mockingly', 'embellished'), 1),\n",
       " (('embellished', 'all'), 1),\n",
       " (('all', 'gay'), 1),\n",
       " (('gay', 'flags'), 1),\n",
       " (('flags', 'of'), 1),\n",
       " (('of', 'known'), 1),\n",
       " (('known', 'nations'), 1),\n",
       " (('nations', 'world'), 1),\n",
       " (('world', 'loved'), 1),\n",
       " (('loved', 'dust'), 1),\n",
       " (('dust', 'it'), 1),\n",
       " (('it', 'somehow'), 1)]"
      ]
     },
     "execution_count": 61,
     "metadata": {},
     "output_type": "execute_result"
    }
   ],
   "source": [
    "topbimoby"
   ]
  },
  {
   "cell_type": "code",
   "execution_count": 62,
   "id": "9daa3496",
   "metadata": {},
   "outputs": [],
   "source": [
    "parawords = [w.lower() for w in paratokens]"
   ]
  },
  {
   "cell_type": "code",
   "execution_count": 64,
   "id": "59038019",
   "metadata": {},
   "outputs": [],
   "source": [
    "alphapara = [w for w in parawords if not alpha_filter(w)]"
   ]
  },
  {
   "cell_type": "code",
   "execution_count": 65,
   "id": "bc8be53b",
   "metadata": {},
   "outputs": [],
   "source": [
    "parafilter = [w for w in alphapara if not w in stopwords]"
   ]
  },
  {
   "cell_type": "code",
   "execution_count": 66,
   "id": "e38bf6f8",
   "metadata": {},
   "outputs": [],
   "source": [
    "paradist = FreqDist(parafilter)"
   ]
  },
  {
   "cell_type": "code",
   "execution_count": 67,
   "id": "f323571f",
   "metadata": {},
   "outputs": [],
   "source": [
    "paraitems = paradist.most_common(50)"
   ]
  },
  {
   "cell_type": "code",
   "execution_count": 68,
   "id": "a5ee9920",
   "metadata": {},
   "outputs": [
    {
     "data": {
      "text/plain": [
       "[('thou', 432),\n",
       " ('thy', 412),\n",
       " ('heaven', 408),\n",
       " ('thee', 358),\n",
       " ('thus', 318),\n",
       " ('shall', 283),\n",
       " ('god', 253),\n",
       " ('yet', 228),\n",
       " ('though', 217),\n",
       " ('earth', 215),\n",
       " ('us', 187),\n",
       " ('man', 174),\n",
       " ('first', 169),\n",
       " ('high', 149),\n",
       " ('one', 141),\n",
       " ('far', 128),\n",
       " ('death', 126),\n",
       " ('may', 126),\n",
       " ('great', 123),\n",
       " ('till', 119),\n",
       " ('day', 114),\n",
       " ('hath', 113),\n",
       " ('stood', 109),\n",
       " ('whose', 108),\n",
       " ('hell', 107),\n",
       " ('like', 106),\n",
       " ('world', 105),\n",
       " ('things', 105),\n",
       " ('good', 104),\n",
       " ('night', 102),\n",
       " ('love', 102),\n",
       " ('adam', 102),\n",
       " ('light', 98),\n",
       " ('eve', 98),\n",
       " ('air', 92),\n",
       " ('soon', 91),\n",
       " ('still', 90),\n",
       " ('ye', 90),\n",
       " ('fair', 90),\n",
       " ('son', 89),\n",
       " ('let', 87),\n",
       " ('life', 87),\n",
       " ('forth', 85),\n",
       " ('know', 85),\n",
       " ('long', 84),\n",
       " ('place', 83),\n",
       " ('less', 81),\n",
       " ('power', 80),\n",
       " ('way', 80),\n",
       " ('much', 77)]"
      ]
     },
     "execution_count": 68,
     "metadata": {},
     "output_type": "execute_result"
    }
   ],
   "source": [
    "paraitems"
   ]
  },
  {
   "cell_type": "code",
   "execution_count": 69,
   "id": "9710c369",
   "metadata": {},
   "outputs": [],
   "source": [
    "bipara = nltk.bigrams(alphapara)"
   ]
  },
  {
   "cell_type": "code",
   "execution_count": 70,
   "id": "764ef99c",
   "metadata": {},
   "outputs": [],
   "source": [
    "biparadist = nltk.FreqDist(bipara)"
   ]
  },
  {
   "cell_type": "code",
   "execution_count": 71,
   "id": "f3e6f035",
   "metadata": {},
   "outputs": [],
   "source": [
    "topbipara = biparadist.most_common(50)"
   ]
  },
  {
   "cell_type": "code",
   "execution_count": 72,
   "id": "705ba269",
   "metadata": {},
   "outputs": [
    {
     "data": {
      "text/plain": [
       "[(('to', 'the'), 177),\n",
       " (('in', 'the'), 123),\n",
       " (('from', 'the'), 123),\n",
       " (('on', 'the'), 120),\n",
       " (('and', 'the'), 108),\n",
       " (('of', 'heaven'), 104),\n",
       " (('and', 'in'), 90),\n",
       " (('all', 'the'), 88),\n",
       " (('in', 'heaven'), 85),\n",
       " (('and', 'with'), 84),\n",
       " (('and', 'to'), 84),\n",
       " (('of', 'god'), 81),\n",
       " (('of', 'all'), 72),\n",
       " (('of', 'the'), 71),\n",
       " (('to', 'be'), 71),\n",
       " (('the', 'earth'), 68),\n",
       " (('to', 'whom'), 65),\n",
       " (('to', 'his'), 64),\n",
       " (('in', 'his'), 63),\n",
       " (('of', 'his'), 60),\n",
       " (('and', 'all'), 58),\n",
       " (('all', 'his'), 58),\n",
       " (('not', 'to'), 56),\n",
       " (('heaven', \"'s\"), 53),\n",
       " (('and', 'from'), 53),\n",
       " (('heaven', 'and'), 51),\n",
       " (('from', 'his'), 51),\n",
       " (('through', 'the'), 50),\n",
       " (('and', 'his'), 48),\n",
       " (('in', 'their'), 48),\n",
       " (('all', 'things'), 47),\n",
       " (('the', 'sun'), 46),\n",
       " (('shall', 'be'), 43),\n",
       " (('and', 'of'), 41),\n",
       " (('on', 'earth'), 40),\n",
       " (('by', 'the'), 39),\n",
       " (('of', 'this'), 39),\n",
       " (('with', 'the'), 37),\n",
       " (('and', 'now'), 37),\n",
       " (('with', 'his'), 36),\n",
       " (('to', 'me'), 36),\n",
       " (('into', 'the'), 34),\n",
       " (('out', 'of'), 34),\n",
       " (('whom', 'the'), 34),\n",
       " (('as', 'the'), 34),\n",
       " (('in', 'a'), 34),\n",
       " (('the', 'air'), 34),\n",
       " (('the', 'ground'), 34),\n",
       " (('whom', 'thus'), 34),\n",
       " (('to', 'thee'), 34)]"
      ]
     },
     "execution_count": 72,
     "metadata": {},
     "output_type": "execute_result"
    }
   ],
   "source": [
    "topbipara"
   ]
  },
  {
   "cell_type": "code",
   "execution_count": 73,
   "id": "c003bb7a",
   "metadata": {},
   "outputs": [],
   "source": [
    "bipara = nltk.bigrams(parafilter)"
   ]
  },
  {
   "cell_type": "code",
   "execution_count": 74,
   "id": "d065f952",
   "metadata": {},
   "outputs": [],
   "source": [
    "biparadist = nltk.FreqDist(bipara)"
   ]
  },
  {
   "cell_type": "code",
   "execution_count": 75,
   "id": "af12c7de",
   "metadata": {},
   "outputs": [],
   "source": [
    "topbipara = biparadist.most_common(50)"
   ]
  },
  {
   "cell_type": "code",
   "execution_count": 76,
   "id": "fc277323",
   "metadata": {},
   "outputs": [
    {
     "data": {
      "text/plain": [
       "[(('thou', 'hast'), 33),\n",
       " (('heaven', 'earth'), 28),\n",
       " (('let', 'us'), 24),\n",
       " (('thou', 'art'), 24),\n",
       " (('hast', 'thou'), 19),\n",
       " (('good', 'evil'), 15),\n",
       " (('thus', 'eve'), 15),\n",
       " (('thou', 'seest'), 14),\n",
       " (('thus', 'adam'), 14),\n",
       " (('thus', 'began'), 13),\n",
       " (('right', 'hand'), 13),\n",
       " (('thus', 'replied'), 13),\n",
       " (('thou', 'shalt'), 13),\n",
       " (('thou', 'knowest'), 13),\n",
       " (('day', 'night'), 12),\n",
       " (('thus', 'spake'), 12),\n",
       " (('god', 'hath'), 12),\n",
       " (('thus', 'far'), 11),\n",
       " (('god', 'man'), 11),\n",
       " (('thee', 'thy'), 11),\n",
       " (('thou', 'didst'), 11),\n",
       " (('happy', 'state'), 10),\n",
       " (('without', 'end'), 10),\n",
       " (('heaven', 'high'), 10),\n",
       " (('thou', 'mayest'), 10),\n",
       " (('mine', 'eyes'), 9),\n",
       " (('earth', 'shall'), 9),\n",
       " (('son', 'god'), 9),\n",
       " (('thou', 'thy'), 9),\n",
       " (('thee', 'thou'), 9),\n",
       " (('one', 'man'), 9),\n",
       " (('shall', 'find'), 8),\n",
       " (('art', 'thou'), 8),\n",
       " (('tree', 'life'), 8),\n",
       " (('thou', 'sawest'), 8),\n",
       " (('shall', 'bruise'), 8),\n",
       " (('thus', 'michael'), 8),\n",
       " (('thus', 'answered'), 7),\n",
       " (('bring', 'forth'), 7),\n",
       " (('ten', 'thousand'), 7),\n",
       " (('may', 'find'), 7),\n",
       " (('great', 'things'), 7),\n",
       " (('new', 'world'), 7),\n",
       " (('thou', 'thyself'), 7),\n",
       " (('shall', 'dwell'), 7),\n",
       " (('ye', 'shall'), 7),\n",
       " (('sin', 'death'), 7),\n",
       " (('much', 'less'), 7),\n",
       " (('human', 'sense'), 7),\n",
       " (('thy', 'power'), 7)]"
      ]
     },
     "execution_count": 76,
     "metadata": {},
     "output_type": "execute_result"
    }
   ],
   "source": [
    "topbipara"
   ]
  },
  {
   "cell_type": "code",
   "execution_count": null,
   "id": "1ac783b8",
   "metadata": {},
   "outputs": [],
   "source": []
  },
  {
   "cell_type": "code",
   "execution_count": 78,
   "id": "28bf8ad9",
   "metadata": {},
   "outputs": [],
   "source": [
    "from nltk.collocations import*"
   ]
  },
  {
   "cell_type": "code",
   "execution_count": 92,
   "id": "8b65c1d8",
   "metadata": {},
   "outputs": [],
   "source": [
    "mobyfinder = BigramCollocationFinder.from_words(newmobyfilter)"
   ]
  },
  {
   "cell_type": "code",
   "execution_count": 93,
   "id": "37f8858b",
   "metadata": {},
   "outputs": [],
   "source": [
    "mobyscore = mobyfinder.score_ngrams(bigram_measures.pmi)"
   ]
  },
  {
   "cell_type": "code",
   "execution_count": 94,
   "id": "cfa442ee",
   "metadata": {},
   "outputs": [],
   "source": [
    "mobyfinder.apply_freq_filter(5)"
   ]
  },
  {
   "cell_type": "markdown",
   "id": "61d6ceb9",
   "metadata": {},
   "source": []
  },
  {
   "cell_type": "raw",
   "id": "32f7e0fc",
   "metadata": {},
   "source": []
  },
  {
   "cell_type": "code",
   "execution_count": 95,
   "id": "3044c8da",
   "metadata": {},
   "outputs": [],
   "source": [
    "mobyscore = mobyfinder.score_ngrams(bigram_measures.pmi)"
   ]
  },
  {
   "cell_type": "code",
   "execution_count": 96,
   "id": "21c325a8",
   "metadata": {},
   "outputs": [
    {
     "name": "stdout",
     "output_type": "stream",
     "text": [
      "(('caw', 'caw'), 13.863266752858188)\n",
      "(('samuel', 'enderby'), 13.029439619439394)\n",
      "(('warp', 'woof'), 12.766405213605598)\n",
      "(('latitude', 'longitude'), 12.747789535438251)\n",
      "(('straits', 'sunda'), 12.71126365941314)\n",
      "(('mrs.', 'hussey'), 12.623800818162799)\n",
      "(('um', 'um'), 12.599755344196149)\n",
      "(('iii', 'duodecimo'), 12.573760135663203)\n",
      "(('heidelburgh', 'tun'), 12.488871238076692)\n",
      "(('ii', 'octavo'), 12.318946236634378)\n",
      "(('st.', 'george'), 12.09982894733079)\n",
      "(('father', 'mapple'), 12.010823941272045)\n",
      "(('hither', 'thither'), 11.903908737355533)\n",
      "(('huzza', 'porpoise'), 11.785264240856915)\n",
      "(('fiery', 'pit'), 11.64087433152174)\n",
      "(('beef', 'bread'), 11.401408396826351)\n",
      "(('steering', 'oar'), 11.126301158691984)\n",
      "(('hundred', 'seventy-seventh'), 11.067407469638415)\n",
      "(('wife', 'child'), 10.804373063804622)\n",
      "(('fore', 'aft'), 10.80437306380462)\n",
      "(('centuries', 'ago'), 10.763731079307275)\n",
      "(('cape', 'horn'), 10.683357662843253)\n",
      "(('seven', 'hundred'), 10.652369970359569)\n",
      "(('blows', 'blows'), 10.348693580028431)\n",
      "(('moby', 'dick'), 10.336009653061595)\n",
      "(('new', 'york'), 10.301872723275437)\n",
      "(('new', 'zealand'), 10.301872723275437)\n",
      "(('new', 'bedford'), 10.301872723275435)\n",
      "(('ha', 'ha'), 9.956376157249672)\n",
      "(('book', 'ii'), 9.878373645248399)\n",
      "(('harpoons', 'lances'), 9.818467893690407)\n",
      "(('gave', 'understand'), 9.697801399606576)\n",
      "(('book', 'folio'), 9.685728567306002)\n",
      "(('saturday', 'night'), 9.655981223911947)\n",
      "(('drew', 'nigh'), 9.4105297867949)\n",
      "(('chief', 'mate'), 9.394497269641557)\n",
      "(('eight', 'ten'), 9.251832040775842)\n",
      "(('years', 'ago'), 9.203469019214442)\n",
      "(('english', 'whalers'), 9.170554396741705)\n",
      "(('forty', 'years'), 9.144575330160874)\n",
      "(('brought', 'alongside'), 9.030376738693446)\n",
      "(('lower', 'jaw'), 8.95637615724967)\n",
      "(('four', 'oceans'), 8.94572891305016)\n",
      "(('thousand', 'miles'), 8.874762391696018)\n",
      "(('drawing', 'nigh'), 8.825567286073744)\n",
      "(('new', 'england'), 8.78729955044568)\n",
      "(('pagan', 'harpooneers'), 8.766405213605598)\n",
      "(('ca', \"n't\"), 8.733983735913224)\n",
      "(('ai', \"n't\"), 8.73398373591322)\n",
      "(('closed', 'eyes'), 8.688895846384685)\n"
     ]
    }
   ],
   "source": [
    "for bscore in mobyscore[:50]: print(bscore)"
   ]
  },
  {
   "cell_type": "code",
   "execution_count": 97,
   "id": "98588b42",
   "metadata": {},
   "outputs": [],
   "source": [
    "parafinder = BigramCollocationFinder.from_words(parafilter)"
   ]
  },
  {
   "cell_type": "code",
   "execution_count": 98,
   "id": "907357a0",
   "metadata": {},
   "outputs": [],
   "source": [
    "parascore = parafinder.score_ngrams(bigram_measures.pmi)"
   ]
  },
  {
   "cell_type": "code",
   "execution_count": 99,
   "id": "1b572da2",
   "metadata": {},
   "outputs": [],
   "source": [
    "parafinder.apply_freq_filter(5)"
   ]
  },
  {
   "cell_type": "code",
   "execution_count": 100,
   "id": "fbe5abdb",
   "metadata": {},
   "outputs": [],
   "source": [
    "parascore = parafinder.score_ngrams(bigram_measures.pmi)"
   ]
  },
  {
   "cell_type": "code",
   "execution_count": 101,
   "id": "58e8a0fa",
   "metadata": {},
   "outputs": [
    {
     "name": "stdout",
     "output_type": "stream",
     "text": [
      "(('ten', 'thousand'), 10.47580677777446)\n",
      "(('fish', 'fowl'), 10.377403073713467)\n",
      "(('drew', 'nigh'), 8.907917790412247)\n",
      "(('bird', 'beast'), 8.824086199608777)\n",
      "(('dry', 'land'), 8.648999493050685)\n",
      "(('living', 'creatures'), 8.062320519740508)\n",
      "(('human', 'sense'), 7.987584931891654)\n",
      "(('beast', 'field'), 7.69480318266381)\n",
      "(('mine', 'eyes'), 7.664106385440894)\n",
      "(('well', 'pleased'), 7.327071398163321)\n",
      "(('put', 'forth'), 7.28142873260761)\n",
      "(('happy', 'state'), 7.276445325093356)\n",
      "(('among', 'trees'), 7.274456771999901)\n",
      "(('either', 'side'), 7.151660857637282)\n",
      "(('right', 'hand'), 7.0759766056410545)\n",
      "(('great', 'creator'), 6.748305163406073)\n",
      "(('thou', 'sawest'), 6.701466912944822)\n",
      "(('another', 'world'), 6.671719569550769)\n",
      "(('good', 'evil'), 6.6628052925757135)\n",
      "(('without', 'end'), 6.62663168002223)\n",
      "(('thou', 'seest'), 6.508821835002424)\n",
      "(('bring', 'forth'), 6.46200097824943)\n",
      "(('eternal', 'father'), 6.460869896230783)\n",
      "(('thou', 'knowest'), 6.401906631085913)\n",
      "(('tree', 'life'), 6.369554729484838)\n",
      "(('thou', 'mayest'), 6.322955289691091)\n",
      "(('shall', 'bruise'), 6.311696172276408)\n",
      "(('thy', 'request'), 6.28442706075483)\n",
      "(('find', 'grace'), 6.2665298562282725)\n",
      "(('thou', 'shouldst'), 6.21604008577458)\n",
      "(('knowledge', 'good'), 6.17095219624604)\n",
      "(('let', 'us'), 6.05147896009308)\n",
      "(('ere', 'long'), 5.801002586495736)\n",
      "(('thou', 'didst'), 5.7685811088033585)\n",
      "(('sin', 'death'), 5.762867457608962)\n",
      "(('thou', 'hast'), 5.745861032303273)\n",
      "(('hadst', 'thou'), 5.70146691294482)\n",
      "(('thou', 'canst'), 5.70146691294482)\n",
      "(('much', 'less'), 5.657072793586366)\n",
      "(('thou', 'art'), 5.585989695524884)\n",
      "(('thus', 'michael'), 5.558508959102779)\n",
      "(('thus', 'began'), 5.558508959102777)\n",
      "(('thus', 'answered'), 5.558508959102776)\n",
      "(('sea', 'air'), 5.554280835797547)\n",
      "(('created', 'world'), 5.540475036272516)\n",
      "(('day', 'night'), 5.536001559693208)\n",
      "(('thou', 'shalt'), 5.495016035477393)\n",
      "(('fair', 'fruit'), 5.4037863643041355)\n",
      "(('thus', 'replied'), 5.384479559327728)\n",
      "(('man', 'beast'), 5.381142703760048)\n"
     ]
    }
   ],
   "source": [
    "for bscore in parascore[:50]: print(bscore)"
   ]
  },
  {
   "cell_type": "code",
   "execution_count": null,
   "id": "65c43e06",
   "metadata": {},
   "outputs": [],
   "source": []
  }
 ],
 "metadata": {
  "kernelspec": {
   "display_name": "Python 3 (ipykernel)",
   "language": "python",
   "name": "python3"
  },
  "language_info": {
   "codemirror_mode": {
    "name": "ipython",
    "version": 3
   },
   "file_extension": ".py",
   "mimetype": "text/x-python",
   "name": "python",
   "nbconvert_exporter": "python",
   "pygments_lexer": "ipython3",
   "version": "3.11.5"
  }
 },
 "nbformat": 4,
 "nbformat_minor": 5
}
