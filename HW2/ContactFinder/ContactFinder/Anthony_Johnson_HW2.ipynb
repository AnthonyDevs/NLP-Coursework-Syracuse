{
 "cells": [
  {
   "cell_type": "code",
   "execution_count": 1,
   "id": "bd33c569",
   "metadata": {},
   "outputs": [],
   "source": [
    "import sys"
   ]
  },
  {
   "cell_type": "code",
   "execution_count": 2,
   "id": "26855e0e",
   "metadata": {},
   "outputs": [],
   "source": [
    "import os"
   ]
  },
  {
   "cell_type": "code",
   "execution_count": 3,
   "id": "a677b6f6",
   "metadata": {},
   "outputs": [],
   "source": [
    "import re"
   ]
  },
  {
   "cell_type": "code",
   "execution_count": 4,
   "id": "56727b53",
   "metadata": {},
   "outputs": [],
   "source": [
    "import pprint"
   ]
  },
  {
   "cell_type": "code",
   "execution_count": 7,
   "id": "2c991088",
   "metadata": {},
   "outputs": [],
   "source": [
    "epatterns = []"
   ]
  },
  {
   "cell_type": "code",
   "execution_count": 8,
   "id": "580478d7",
   "metadata": {},
   "outputs": [],
   "source": [
    "epatterns.append('([A-Za-z]+)@([A-Za-z]+)\\.edu')"
   ]
  },
  {
   "cell_type": "code",
   "execution_count": null,
   "id": "4ae70481",
   "metadata": {},
   "outputs": [],
   "source": []
  }
 ],
 "metadata": {
  "kernelspec": {
   "display_name": "Python 3 (ipykernel)",
   "language": "python",
   "name": "python3"
  },
  "language_info": {
   "codemirror_mode": {
    "name": "ipython",
    "version": 3
   },
   "file_extension": ".py",
   "mimetype": "text/x-python",
   "name": "python",
   "nbconvert_exporter": "python",
   "pygments_lexer": "ipython3",
   "version": "3.11.5"
  }
 },
 "nbformat": 4,
 "nbformat_minor": 5
}
